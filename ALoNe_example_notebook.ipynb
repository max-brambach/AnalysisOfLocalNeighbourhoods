{
 "cells": [
  {
   "cell_type": "markdown",
   "id": "recent-final",
   "metadata": {},
   "source": [
    "# Example of how to use the ALoNe framework\n",
    "In this notebook, we demonstrate how to use the Analysis of Local Neighbourhoods (ALoNe) framework. For that we first generate a synthetic dataset (a set of random points in 3D), then use voro++ to generate organisational features, which we then explore a little bit."
   ]
  },
  {
   "cell_type": "markdown",
   "id": "composite-valuable",
   "metadata": {},
   "source": [
    "## Generate random points\n"
   ]
  }
 ],
 "metadata": {
  "kernelspec": {
   "display_name": "max_env",
   "language": "python",
   "name": "max_env"
  },
  "language_info": {
   "codemirror_mode": {
    "name": "ipython",
    "version": 3
   },
   "file_extension": ".py",
   "mimetype": "text/x-python",
   "name": "python",
   "nbconvert_exporter": "python",
   "pygments_lexer": "ipython3",
   "version": "3.7.9"
  }
 },
 "nbformat": 4,
 "nbformat_minor": 5
}
